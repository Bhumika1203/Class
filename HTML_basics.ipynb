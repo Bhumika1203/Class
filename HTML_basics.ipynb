{
  "nbformat": 4,
  "nbformat_minor": 0,
  "metadata": {
    "colab": {
      "provenance": []
    },
    "kernelspec": {
      "name": "python3",
      "display_name": "Python 3"
    },
    "language_info": {
      "name": "python"
    }
  },
  "cells": [
    {
      "cell_type": "markdown",
      "source": [],
      "metadata": {
        "id": "OepnmOP6prkr"
      }
    },
    {
      "cell_type": "code",
      "source": [
        "#Ques.1  : Write a simple program in HTML  that displays the heading \"HTML defines the content and structure of\n",
        "your  website” on the web browser$\n",
        "\n",
        "Answer   : <!DOCTYPE html>\n",
        "<html lang=\"en\">\n",
        "<head>\n",
        "    <meta charset=\"UTF-8\">\n",
        "    <meta name=\"viewport\" content=\"width=device-width, initial-scale=1.0\">\n",
        "    <title>Document</title>\n",
        "</head>\n",
        "<body>\n",
        "   <h3> \"HTML defines the content and structure of\n",
        "    your website.\"</h3>\n",
        "</body>\n",
        "</html>\n",
        "\n",
        "#Ques.2  :Explain the purpose of comments in HTML and provide an example of how to use comments in an HTML\n",
        "document$\n",
        "\n",
        "Answer  :<!DOCTYPE html>\n",
        "<html lang=\"en\">\n",
        "<head>\n",
        "    <meta charset=\"UTF-8\">\n",
        "    <meta name=\"viewport\" content=\"width=device-width, initial-scale=1.0\">\n",
        "    <title>Document</title>\n",
        "</head>\n",
        "<body>\n",
        "    <p>These help to add notes in our document (Extra piece of code)which is not read by browser only use for non-executing code.</p>\n",
        "    <h3>They are useful for:</h3>\n",
        "    <ol>\n",
        "        <li>Explaining the purpose of sections of code</li>\n",
        "        <li>Making your code more readable and maintainable</li>\n",
        "\n",
        "    </ol>\n",
        "     <h3>Syntax of comment is: <!--comment-->\n",
        "    </h3>\n",
        "    for example,\n",
        "    <h5>this is a web page</h5>\n",
        "    <!--this should be in capital letter-->\n",
        "\n",
        "</body>\n",
        "</html>\n",
        "\n",
        "#Ques.3 : Write an HTML program that includes a heading, a paragraph of text, a horizontal line, and a line break.\n",
        "Arrange these elements to create a simple web page layout$\n",
        "\n",
        "Answer  : <!DOCTYPE html>\n",
        "<html lang=\"en\">\n",
        "<head>\n",
        "    <meta charset=\"UTF-8\">\n",
        "    <meta name=\"viewport\" content=\"width=device-width, initial-scale=1.0\">\n",
        "    <title>Document</title>\n",
        "</head>\n",
        "<body>\n",
        "    <h1>Web devlopement:</h1>\n",
        "    <p>Web development is the process of creating websites or web applications that are accessed through the internet. It involves everything from designing how a site looks to making it work behind the scenes.</p>\n",
        "     <h3>Types of Web devlopement:</h3>\n",
        "     frontend <br> backend\n",
        "     <hr>\n",
        "\n",
        "\n",
        "</body>\n",
        "</html>\n",
        "\n",
        "#Ques.4  :Write a short note on Tag and element with an example$\n",
        "\n",
        "Answer   : In web development, a tag is a fundamental part of HTML (HyperText Markup Language) used to define the structure and content of a webpage. Tags are enclosed in angle brackets <tag>.\n",
        "A tag is the smallest individual unit in HTML for using the tag we can create a web page basically Tags define structure and layout of web pages.\n",
        "Tags are of two types :\n",
        "1. Self closing tag\n",
        "2. Non self closing tag\n",
        "\n",
        "Some example of self closing tag and non self closing tag is;\n",
        "\n",
        " 1. <p>Something </p>   ----------- it is a Non self closing tag.\n",
        " 2.  <hr>  ---------- it is a self closing tag.\n",
        "\n",
        "\n",
        " Element :  In web development, an element is a fundamental building block of a webpage. Elements define the structure and content of a webpage using HTML.\n",
        "  Each element is represented by a tag, and most elements have an opening tag,  content and a closing tag.\n",
        "\n",
        "  #Ques.5  :What is the DOCTYPE Declaration in HTML?\n",
        "\n",
        "  Answer   : DOCTYPE Declaration is define the document type OR version like HTML5.\n",
        "\n",
        "             <!DOCTYPE html>\n",
        "\n",
        "              it Must be the first line in our HTML file.\n",
        "              No closing tag needed.\n",
        "\n",
        "\n",
        "\n",
        "\n",
        "\n",
        "\n"
      ],
      "metadata": {
        "id": "Ye8ROjfPp7Pf",
        "colab": {
          "base_uri": "https://localhost:8080/",
          "height": 106
        },
        "outputId": "ede88755-c082-4b6b-970e-8cdccb64eb72"
      },
      "execution_count": 1,
      "outputs": [
        {
          "output_type": "error",
          "ename": "SyntaxError",
          "evalue": "invalid character '”' (U+201D) (<ipython-input-1-640f1b2d38ff>, line 2)",
          "traceback": [
            "\u001b[0;36m  File \u001b[0;32m\"<ipython-input-1-640f1b2d38ff>\"\u001b[0;36m, line \u001b[0;32m2\u001b[0m\n\u001b[0;31m    your website” on the web browser$\u001b[0m\n\u001b[0m                ^\u001b[0m\n\u001b[0;31mSyntaxError\u001b[0m\u001b[0;31m:\u001b[0m invalid character '”' (U+201D)\n"
          ]
        }
      ]
    },
    {
      "cell_type": "markdown",
      "source": [],
      "metadata": {
        "id": "DZ9apYxspt_V"
      }
    }
  ]
}